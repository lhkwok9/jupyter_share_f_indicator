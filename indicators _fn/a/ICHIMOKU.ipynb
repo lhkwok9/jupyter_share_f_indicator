{
 "cells": [
  {
   "cell_type": "code",
   "execution_count": 1,
   "metadata": {},
   "outputs": [],
   "source": [
    "#https://www.pythonforfinance.net/2019/06/26/ichimoku-trading-strategy-with-python/\n",
    "def ichimoku(df):\n",
    "    d=df[['Open','High','Low','Close']].copy()\n",
    "    # Tenkan-sen (Conversion Line): (9-period high + 9-period low)/2))\n",
    "    nine_period_high = d['High'].rolling(window= 9).max()\n",
    "    nine_period_low = d['Low'].rolling(window= 9).min()\n",
    "    d['tenkan_sen'] = (nine_period_high + nine_period_low) /2\n",
    "    # Kijun-sen (Base Line): (26-period high + 26-period low)/2))\n",
    "    period26_high = d['High'].rolling(window=26).max()\n",
    "    period26_low = d['Low'].rolling(window=26).min()\n",
    "    d['kijun_sen'] = (period26_high + period26_low) / 2\n",
    "    # Senkou Span A (Leading Span A): (Conversion Line + Base Line)/2))\n",
    "    d['senkou_span_a'] = ((d['tenkan_sen'] + d['kijun_sen']) / 2).shift(26)\n",
    "    # Senkou Span B (Leading Span B): (52-period high + 52-period low)/2))\n",
    "    period52_high = d['High'].rolling(window=52).max()\n",
    "    period52_low = d['Low'].rolling(window=52).min()\n",
    "    d['senkou_span_b'] = ((period52_high + period52_low) / 2).shift(52)\n",
    "    # The most current closing price plotted 26 time periods behind (optional)\n",
    "    d['chikou_span'] = d['Close'].shift(-26)\n",
    "    d.dropna(inplace=True)\n",
    "    d['above_cloud'] = 0\n",
    "    d['above_cloud'] = np.where((d['Low'] > d['senkou_span_a'])  & (d['Low'] > d['senkou_span_b'] ), 1, d['above_cloud'])\n",
    "    d['above_cloud'] = np.where((d['High'] < d['senkou_span_a']) & (d['High'] < d['senkou_span_b']), -1, d['above_cloud'])\n",
    "    d['A_above_B'] = np.where((d['senkou_span_a'] > d['senkou_span_b']), 1, -1)\n",
    "    d['tenkan_kiju_cross'] = np.NaN\n",
    "    d['tenkan_kiju_cross'] = np.where((d['tenkan_sen'].shift(1) <= d['kijun_sen'].shift(1)) & (d['tenkan_sen'] > d['kijun_sen']), 1, d['tenkan_kiju_cross'])\n",
    "    d['tenkan_kiju_cross'] = np.where((d['tenkan_sen'].shift(1) >= d['kijun_sen'].shift(1)) & (d['tenkan_sen'] < d['kijun_sen']), -1, d['tenkan_kiju_cross'])\n",
    "    d['price_tenkan_cross'] = np.NaN\n",
    "    d['price_tenkan_cross'] = np.where((d['Open'].shift(1) <= d['tenkan_sen'].shift(1)) & (d['Open'] > d['tenkan_sen']), 1, d['price_tenkan_cross'])\n",
    "    d['price_tenkan_cross'] = np.where((d['Open'].shift(1) >= d['tenkan_sen'].shift(1)) & (d['Open'] < d['tenkan_sen']), -1, d['price_tenkan_cross'])\n",
    "    d['buy'] = np.NaN\n",
    "    d['buy'] = np.where((d['above_cloud'].shift(1) == 1) & (d['A_above_B'].shift(1) == 1) & ((d['tenkan_kiju_cross'].shift(1) == 1) | (d['price_tenkan_cross'].shift(1) == 1)), 1, d['buy'])\n",
    "    d['buy'] = np.where(d['tenkan_kiju_cross'].shift(1) == -1, 0, d['buy'])\n",
    "    d['buy'].ffill(inplace=True)\n",
    "    d['sell'] = np.NaN\n",
    "    d['sell'] = np.where((d['above_cloud'].shift(1) == -1) & (d['A_above_B'].shift(1) == -1) & ((d['tenkan_kiju_cross'].shift(1) == -1) | (d['price_tenkan_cross'].shift(1) == -1)), -1, d['sell'])\n",
    "    d['sell'] = np.where(d['tenkan_kiju_cross'].shift(1) == 1, 0, d['sell'])\n",
    "    d['sell'].ffill(inplace=True)\n",
    "    d['position'] = d['buy'] + d['sell']\n",
    "    d['stock_returns'] = np.log(d['Open']) - np.log(d['Open'].shift(1))\n",
    "    d['strategy_returns'] = d['stock_returns'] * d['position']\n",
    "    d[['stock_returns','strategy_returns']].cumsum().plot(figsize=(15,8))\n",
    "    \n",
    "    "
   ]
  }
 ],
 "metadata": {
  "kernelspec": {
   "display_name": "Python 3",
   "language": "python",
   "name": "python3"
  },
  "language_info": {
   "codemirror_mode": {
    "name": "ipython",
    "version": 3
   },
   "file_extension": ".py",
   "mimetype": "text/x-python",
   "name": "python",
   "nbconvert_exporter": "python",
   "pygments_lexer": "ipython3",
   "version": "3.7.6"
  }
 },
 "nbformat": 4,
 "nbformat_minor": 4
}
