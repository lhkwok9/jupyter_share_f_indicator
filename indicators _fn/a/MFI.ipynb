{
 "cells": [
  {
   "cell_type": "code",
   "execution_count": 2,
   "metadata": {},
   "outputs": [
    {
     "name": "stderr",
     "output_type": "stream",
     "text": [
      "C:\\Users\\s2007\\anaconda3\\lib\\site-packages\\pandas_datareader\\compat\\__init__.py:7: FutureWarning: pandas.util.testing is deprecated. Use the functions in the public API at pandas.testing instead.\n",
      "  from pandas.util.testing import assert_frame_equal\n"
     ]
    }
   ],
   "source": [
    "def mfi(df1, period):\n",
    "    df = df1[['High', 'Low', 'Open', 'Close', 'Volume']].copy()\n",
    "    df['positive'] = np.nan\n",
    "    df['negative'] = np.nan\n",
    "    df['positive'].fillna(0, inplace=True)\n",
    "    df['negative'].fillna(0, inplace=True)\n",
    "\n",
    "    df['typical_p'] = (df['High'] + df['Low'] + df['Close']) / 3\n",
    "    df['rmf'] = df['typical_p'] * df['Volume']\n",
    "\n",
    "    for i in range(len(df)):\n",
    "        for n in range(period):\n",
    "            if df['typical_p'][i-n] > df['typical_p'][i-n-1]:\n",
    "                df.loc[df.index[i], ['positive']] += df['typical_p'][i-n]\n",
    "            elif df['typical_p'][i-n] < df['typical_p'][i-n-1]:\n",
    "                df.loc[df.index[i], ['negative']] += df['typical_p'][i-n]\n",
    "\n",
    "    df['MFI'] = 100 - ( 100 / ( 1 + df['positive'] / df['negative'] ) )\n",
    "    \n",
    "    return(df['MFI'])"
   ]
  }
 ],
 "metadata": {
  "kernelspec": {
   "display_name": "Python 3",
   "language": "python",
   "name": "python3"
  },
  "language_info": {
   "codemirror_mode": {
    "name": "ipython",
    "version": 3
   },
   "file_extension": ".py",
   "mimetype": "text/x-python",
   "name": "python",
   "nbconvert_exporter": "python",
   "pygments_lexer": "ipython3",
   "version": "3.7.6"
  }
 },
 "nbformat": 4,
 "nbformat_minor": 4
}
