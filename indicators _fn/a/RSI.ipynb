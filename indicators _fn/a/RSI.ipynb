{
 "cells": [
  {
   "cell_type": "code",
   "execution_count": 12,
   "metadata": {},
   "outputs": [],
   "source": [
    "def rsi(df1, period=14):\n",
    "    df = df1[['High', 'Low', 'Open', 'Close', 'Volume']].copy()\n",
    "    \n",
    "    delta = df['Close'].diff()\n",
    "    up = delta.copy()\n",
    "    down = delta.copy()\n",
    "\n",
    "    up[up<0] = 0\n",
    "    down[down>0] = 0\n",
    "\n",
    "    AVG_Gain = up.rolling(window=period).mean()\n",
    "    AVG_Loss = abs(down.rolling(window=period).mean())\n",
    "    RS = AVG_Gain / AVG_Loss\n",
    "    df['RSI'] = 100.0 - (100.0 / (1.0 + RS))\n",
    "\n",
    "    return(df['RSI'])"
   ]
  }
 ],
 "metadata": {
  "kernelspec": {
   "display_name": "Python 3",
   "language": "python",
   "name": "python3"
  },
  "language_info": {
   "codemirror_mode": {
    "name": "ipython",
    "version": 3
   },
   "file_extension": ".py",
   "mimetype": "text/x-python",
   "name": "python",
   "nbconvert_exporter": "python",
   "pygments_lexer": "ipython3",
   "version": "3.7.6"
  }
 },
 "nbformat": 4,
 "nbformat_minor": 2
}
