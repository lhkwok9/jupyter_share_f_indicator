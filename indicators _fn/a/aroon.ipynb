{
 "cells": [
  {
   "cell_type": "code",
   "execution_count": 1,
   "metadata": {},
   "outputs": [],
   "source": [
    "def aroon(df1, period):\n",
    "    df = df1[['High', 'Low', 'Open', 'Close', 'Volume']].copy()\n",
    "    df['p_high'] = df['High'].rolling(window=period).max() == df['High']\n",
    "    df['p_low'] = df['Low'].rolling(window=period).min() == df['Low']\n",
    "    df.dropna(inplace=True)\n",
    "\n",
    "    a = 0\n",
    "    b = 0\n",
    "\n",
    "    for i in range(len(df.index)):\n",
    "        if df['p_high'][i]:\n",
    "            a = 0\n",
    "        elif a < period:\n",
    "            a += 1\n",
    "        if df['p_low'][i]:\n",
    "            b = 0\n",
    "        elif b < period:\n",
    "            b += 1\n",
    "        df.loc[df.index[i], 'p_high'] = a\n",
    "        df.loc[df.index[i], 'p_low'] = b\n",
    "        \n",
    "    df['aroon_up'] = (1 - df['p_high'] / period) * 100\n",
    "    df['aroon_down'] = (1 - df['p_low'] / period) * 100\n",
    "    #df['aroon_diff'] = df['aroon_up'] - df['aroon_down']\n",
    "    \n",
    "    return(df[['aroon_up', 'aroon_down']])"
   ]
  }
 ],
 "metadata": {
  "kernelspec": {
   "display_name": "Python 3",
   "language": "python",
   "name": "python3"
  },
  "language_info": {
   "codemirror_mode": {
    "name": "ipython",
    "version": 3
   },
   "file_extension": ".py",
   "mimetype": "text/x-python",
   "name": "python",
   "nbconvert_exporter": "python",
   "pygments_lexer": "ipython3",
   "version": "3.7.6"
  }
 },
 "nbformat": 4,
 "nbformat_minor": 4
}
