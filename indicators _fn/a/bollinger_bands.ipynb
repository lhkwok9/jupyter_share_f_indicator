{
 "cells": [
  {
   "cell_type": "code",
   "execution_count": null,
   "metadata": {},
   "outputs": [],
   "source": [
    "def bollinger(df1, smoothing_period, sd):\n",
    "    df = df1[['High', 'Low', 'Open', 'Close', 'Volume']].copy()\n",
    "    df['BOLU'] = df['Close'].rolling(window=smoothing_period).mean() + sd * df['Close'].rolling(window=smoothing_period).std()\n",
    "    df['BOLD'] = df['Close'].rolling(window=smoothing_period).mean() - sd * df['Close'].rolling(window=smoothing_period).std()\n",
    "    df['SMA'] = df['Close'].rolling(window=smoothing_period).mean()\n",
    "    df['%b'] = ( df['Close'] - df['BOLD'] ) / ( df['BOLU'] - df['BOLD'] )\n",
    "    df['band_width'] = ( df['BOLU'] - df['BOLD'] ) / df['SMA']\n",
    "\n",
    "    return(df[['BOLU', 'BOLD', '%b', 'band_width', 'SMA', 'Close']])"
   ]
  }
 ],
 "metadata": {
  "kernelspec": {
   "display_name": "Python 3",
   "language": "python",
   "name": "python3"
  },
  "language_info": {
   "codemirror_mode": {
    "name": "ipython",
    "version": 3
   },
   "file_extension": ".py",
   "mimetype": "text/x-python",
   "name": "python",
   "nbconvert_exporter": "python",
   "pygments_lexer": "ipython3",
   "version": "3.7.6"
  }
 },
 "nbformat": 4,
 "nbformat_minor": 4
}
