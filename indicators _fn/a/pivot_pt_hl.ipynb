{
 "cells": [
  {
   "cell_type": "code",
   "execution_count": null,
   "metadata": {},
   "outputs": [],
   "source": [
    "def pivot_hl(df1, period):\n",
    "    df = df1[['High', 'Low', 'Open', 'Close', 'Volume']].copy()\n",
    "    \n",
    "    df['h_index'] = False\n",
    "    df['l_index'] = False\n",
    "\n",
    "    df['pph'] = df['High'].rolling(window=period, center=True).max()\n",
    "    df['ppl'] = df['Low'].rolling(window=period, center=True).min()\n",
    "\n",
    "    for i in range(len(df.index)):\n",
    "        if df['High'][i] == df['pph'][i]:\n",
    "            df.loc[df.index[i], 'h_index'] = True\n",
    "        elif df['ppl'][i] == df['Low'][i]:\n",
    "            df.loc[df.index[i], 'l_index'] = True\n",
    "\n",
    "    return(df[['h_index', 'l_index']])"
   ]
  }
 ],
 "metadata": {
  "kernelspec": {
   "display_name": "Python 3",
   "language": "python",
   "name": "python3"
  },
  "language_info": {
   "codemirror_mode": {
    "name": "ipython",
    "version": 3
   },
   "file_extension": ".py",
   "mimetype": "text/x-python",
   "name": "python",
   "nbconvert_exporter": "python",
   "pygments_lexer": "ipython3",
   "version": "3.7.6"
  }
 },
 "nbformat": 4,
 "nbformat_minor": 4
}
