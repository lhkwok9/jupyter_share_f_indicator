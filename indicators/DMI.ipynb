{
 "cells": [
  {
   "cell_type": "code",
   "execution_count": null,
   "metadata": {},
   "outputs": [],
   "source": [
    "#https://www.investopedia.com/terms/d/dmi.asp\n",
    "#The larger the spread between the two lines, the stronger the price trend. If +DI is way above -DI the price trend is strongly up. \n",
    "#If -DI is way above +DI then the price trend is strongly down.\n",
    "import pandas as pd\n",
    "import numpy as np\n",
    "from pandas_datareader import data\n",
    "import matplotlib.pyplot as plt\n",
    "plt.style.use('ggplot')\n",
    "%matplotlib notebook"
   ]
  },
  {
   "cell_type": "code",
   "execution_count": null,
   "metadata": {},
   "outputs": [],
   "source": [
    "start='2016-1-1'\n",
    "end='2020-3-31'\n",
    "period = 14 #default 14"
   ]
  },
  {
   "cell_type": "code",
   "execution_count": null,
   "metadata": {},
   "outputs": [],
   "source": [
    "df = data.DataReader('NFLX', 'yahoo', start, end)\n",
    "\n",
    "#https://school.stockcharts.com/doku.php?id=technical_indicators:average_directional_index_adx\n",
    "df['+DM'] = abs(df['High'] - df['High'].shift(1))\n",
    "df['-DM'] = abs(df['Low'].shift(1) - df['Low'])\n",
    "df['TR'] = np.nan\n",
    "df['smooth_TR'] = np.nan\n",
    "df['ADX'] = np.nan\n",
    "df['smooth_+DM'] = np.nan\n",
    "df['smooth_-DM'] = np.nan\n",
    "\n",
    "for i in range(len(df['Close'])):\n",
    "    df.loc[[df.index[i]], ['TR']] = np.max([ df['High'][i] - df['Low'][i], \n",
    "                               abs(df['High'][i] - df['Close'][i-1]), \n",
    "                               abs(df['Low'][i] - df['Close'][i-1]) ])\n",
    "df.loc[[df.index[0]], ['TR']] = np.nan\n",
    "\n",
    "df.loc[df.index[period], ['smooth_TR']] = 0\n",
    "for i in range(1, period+1):\n",
    "    df.loc[df.index[period], 'smooth_TR'] += df['TR'][i]\n",
    "for i in range(period+1, len(df)):\n",
    "    df.loc[df.index[i], 'smooth_TR'] = df['smooth_TR'][i-1] - (df['smooth_TR'][i-1] / period) + df['TR'][i]"
   ]
  },
  {
   "cell_type": "code",
   "execution_count": null,
   "metadata": {},
   "outputs": [],
   "source": [
    "df['+DI'] = np.nan\n",
    "df['-DI'] = np.nan\n",
    "df['smooth_+DI'] = np.nan\n",
    "df['smooth_-DI'] = np.nan\n",
    "\n",
    "for i in range(len(df)):\n",
    "    if df['+DM'][i] < 0:\n",
    "        df.loc[df.index[i], ['+DI']] = 0\n",
    "    elif df['+DM'][i] > df['-DM'][i]:\n",
    "        df.loc[df.index[i], ['+DI']] = df['+DM'][i]\n",
    "    else:\n",
    "        df.loc[df.index[i], ['+DI']] = 0\n",
    "        \n",
    "    if df['-DM'][i] < 0:\n",
    "        df.loc[df.index[i], ['-DI']] = 0\n",
    "    elif df['-DM'][i] > df['+DM'][i]:\n",
    "        df.loc[df.index[i], ['-DI']] = df['-DM'][i]\n",
    "    else:\n",
    "        df.loc[df.index[i], ['-DI']] = 0\n",
    "        \n",
    "df.loc[df.index[period], ['smooth_+DI']] = 0\n",
    "for i in range(1, period+1):\n",
    "    df.loc[df.index[period], 'smooth_+DI'] += df['+DI'][i]\n",
    "for i in range(period+1, len(df)):\n",
    "    df.loc[df.index[i], 'smooth_+DI'] = df['smooth_+DI'][i-1] - (df['smooth_+DI'][i-1] / period) + df['+DI'][i]\n",
    "    \n",
    "df.loc[df.index[period], ['smooth_-DI']] = 0\n",
    "for i in range(1, period+1):\n",
    "    df.loc[df.index[period], 'smooth_-DI'] += df['-DI'][i]\n",
    "for i in range(period+1, len(df)):\n",
    "    df.loc[df.index[i], 'smooth_-DI'] = df['smooth_-DI'][i-1] - (df['smooth_-DI'][i-1] / period) + df['-DI'][i]\n",
    "'''   \n",
    "df.loc[df.index[period], ['smooth_+DM']] = 0\n",
    "for i in range(1, period+1):\n",
    "    df.loc[df.index[period], 'smooth_+DM'] += df['+DM'][i]\n",
    "for i in range(period+1, len(df)):\n",
    "    df.loc[df.index[i], 'smooth_+DM'] = df['smooth_+DM'][i-1] - (df['smooth_+DM'][i-1] / period) + df['+DM'][i]\n",
    "    \n",
    "df.loc[df.index[period], ['smooth_-DM']] = 0\n",
    "for i in range(1, period+1):\n",
    "    df.loc[df.index[period], 'smooth_-DM'] += df['-DM'][i]\n",
    "for i in range(period+1, len(df)):\n",
    "    df.loc[df.index[i], 'smooth_-DM'] = df['smooth_-DM'][i-1] - (df['smooth_-DM'][i-1] / period) + df['-DM'][i]\n",
    "df['smooth_+DI'] = df['smooth_+DM'] / df['smooth_TR'] * 100\n",
    "df['smooth_-DI'] = df['smooth_-DM'] / df['smooth_TR'] * 100\n",
    "\n",
    "'''"
   ]
  },
  {
   "cell_type": "code",
   "execution_count": null,
   "metadata": {},
   "outputs": [],
   "source": [
    "df['DX'] = abs(df['smooth_+DI'] - df['smooth_-DI']) / (df['smooth_+DI'] + df['smooth_-DI']) * 100\n",
    "\n",
    "df.loc[df.index[2*period-1], ['ADX']] = 0\n",
    "for i in range(period, 2*period):\n",
    "    df.loc[df.index[2*period-1], 'ADX'] += df.loc[df.index[i], 'DX']\n",
    "df.loc[df.index[2*period-1], ['ADX']] = df['ADX'][2*period-1] / period\n",
    "for i in range(2*period, len(df)):\n",
    "    df.loc[df.index[i], 'ADX'] = (df['ADX'][i-1] * (period-1) + df['DX'][i]) / period\n",
    "    \n",
    "df['ADXR'] = df['ADX'].rolling(window=period+1).mean()"
   ]
  },
  {
   "cell_type": "code",
   "execution_count": null,
   "metadata": {},
   "outputs": [],
   "source": [
    "#https://www.fidelity.com/learning-center/trading-investing/technical-analysis/technical-indicator-guide/adx\n",
    "#Wilder suggests that a strong trend is present when ADX is above 25 and no trend is present when below 20."
   ]
  },
  {
   "cell_type": "code",
   "execution_count": null,
   "metadata": {
    "scrolled": false
   },
   "outputs": [],
   "source": [
    "fig, axes = plt.subplots(nrows=3, ncols=1,figsize=(13,10),sharex=True)\n",
    "\n",
    "df['Close'].plot(ax=axes[0]); axes[0].set_title('Close')\n",
    "df[['smooth_+DI', 'smooth_-DI']].plot(ax=axes[1]); axes[1].set_title('DMI')\n",
    "df[['ADXR', 'ADX']].plot(ax=axes[2]); axes[2].set_title('ADX'); axes[2].axhline(25, linestyle='--', alpha = 0.5, color = 'red')\n",
    "plt.show()"
   ]
  },
  {
   "cell_type": "code",
   "execution_count": null,
   "metadata": {},
   "outputs": [],
   "source": []
  }
 ],
 "metadata": {
  "kernelspec": {
   "display_name": "Python 3",
   "language": "python",
   "name": "python3"
  },
  "language_info": {
   "codemirror_mode": {
    "name": "ipython",
    "version": 3
   },
   "file_extension": ".py",
   "mimetype": "text/x-python",
   "name": "python",
   "nbconvert_exporter": "python",
   "pygments_lexer": "ipython3",
   "version": "3.7.6"
  }
 },
 "nbformat": 4,
 "nbformat_minor": 4
}
