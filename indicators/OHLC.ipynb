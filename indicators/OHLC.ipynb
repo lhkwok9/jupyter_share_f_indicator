{
 "cells": [
  {
   "cell_type": "code",
   "execution_count": null,
   "metadata": {},
   "outputs": [],
   "source": [
    "from mplfinance.original_flavor import candlestick_ohlc\n",
    "import pandas as pd\n",
    "import numpy as np\n",
    "from pandas_datareader import data\n",
    "from matplotlib.dates import date2num\n",
    "import matplotlib.pyplot as plt\n",
    "plt.style.use('ggplot')\n",
    "%matplotlib notebook\n",
    "\n",
    "#download data into DataFrame and create moving averages columns\n",
    "df = data.DataReader('AAPL', 'yahoo', start='1/1/2014', end='1/1/2016')"
   ]
  },
  {
   "cell_type": "code",
   "execution_count": null,
   "metadata": {},
   "outputs": [],
   "source": [
    "#style.use('ggplot')\n",
    "#df = pd.read_csv('stock_dfs_handmade/tsla.csv', parse_dates=True, index_col=0)\n",
    "\n",
    "df_ohlc = df['Adj Close'].resample('10D').ohlc()     # resample-> shrink size\n",
    "df_volume = df['Volume'].resample('10D').sum()       # or mean\n",
    "\n",
    "df_ohlc.reset_index(inplace=True)\n",
    "\n",
    "df_ohlc['Date'] = df_ohlc['Date'].map(date2num)\n",
    "%matplotlib notebook\n",
    "ax1 = plt.subplot2grid((6,1), (0,0), rowspan=5, colspan=1)\n",
    "ax2 = plt.subplot2grid((6,1), (5,0), rowspan=1, colspan=1, sharex=ax1)\n",
    "\n",
    "ax1.xaxis_date()\n",
    "df['100ma'] = df['Adj Close'].rolling(window=100, min_periods=0).mean()\n",
    "ax1.plot(df.index, df['100ma'])\n",
    "candlestick_ohlc(ax1, df_ohlc.values, width=1, colorup='g')\n",
    "\n",
    "ax2.fill_between(df_volume.index.map(date2num), df_volume.values, 0)\n"
   ]
  }
 ],
 "metadata": {
  "kernelspec": {
   "display_name": "Python 3",
   "language": "python",
   "name": "python3"
  },
  "language_info": {
   "codemirror_mode": {
    "name": "ipython",
    "version": 3
   },
   "file_extension": ".py",
   "mimetype": "text/x-python",
   "name": "python",
   "nbconvert_exporter": "python",
   "pygments_lexer": "ipython3",
   "version": "3.7.6"
  }
 },
 "nbformat": 4,
 "nbformat_minor": 4
}
