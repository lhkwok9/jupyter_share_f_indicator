{
 "cells": [
  {
   "cell_type": "code",
   "execution_count": null,
   "metadata": {},
   "outputs": [],
   "source": [
    "#https://www.investopedia.com/terms/b/bollingerbands.asp\n",
    "import pandas as pd\n",
    "import numpy as np\n",
    "from pandas_datareader import data\n",
    "import matplotlib.pyplot as plt\n",
    "plt.style.use('ggplot')\n",
    "%matplotlib notebook"
   ]
  },
  {
   "cell_type": "code",
   "execution_count": null,
   "metadata": {},
   "outputs": [],
   "source": [
    "start='2014-1-1'\n",
    "end='2016-3-31'\n",
    "smoothing_period = 20 #default 20\n",
    "sd = 2"
   ]
  },
  {
   "cell_type": "code",
   "execution_count": null,
   "metadata": {},
   "outputs": [],
   "source": [
    "df = data.DataReader('AAPL', 'yahoo', start, end)\n",
    " \n",
    "df['BOLU'] = df['Close'].rolling(window=smoothing_period).mean() + sd * df['Close'].rolling(window=smoothing_period).std()\n",
    "df['BOLD'] = df['Close'].rolling(window=smoothing_period).mean() - sd * df['Close'].rolling(window=smoothing_period).std()\n",
    "df['SMA'] = df['Close'].rolling(window=smoothing_period).mean()\n",
    "df['%b'] = ( df['Close'] - df['BOLD'] ) / ( df['BOLU'] - df['BOLD'] )\n",
    "df['band_width'] = ( df['BOLU'] - df['BOLD'] ) / df['SMA']\n",
    "\n",
    "#Uses for %b include system building and pattern recognition. \n",
    "#Uses for bandwidth include identification of opportunities arising from relative extremes in volatility and trend identification."
   ]
  },
  {
   "cell_type": "code",
   "execution_count": null,
   "metadata": {
    "scrolled": false
   },
   "outputs": [],
   "source": [
    "fig, (ax1,ax2,ax3) = plt.subplots(3,1, figsize=(12,10), sharex=True)\n",
    "\n",
    "ax1.plot(df.index, df['SMA'], color='orange')\n",
    "ax1.plot(df.index, df['BOLU'], color='red')\n",
    "ax1.plot(df.index, df['BOLD'], color='green')\n",
    "ax1.plot(df.index, df['Close'], color='blue')\n",
    "ax1.fill_between(df.index, df['BOLU'], df['BOLD'], alpha=0.2, color='grey')\n",
    "\n",
    "ax2.plot(df.index, df['%b'], label='%b')\n",
    "\n",
    "ax3.plot(df.index, df['band_width'], label='band_width')\n",
    "\n",
    "ax2.legend()\n",
    "ax3.legend()\n",
    "plt.show()"
   ]
  },
  {
   "cell_type": "code",
   "execution_count": null,
   "metadata": {},
   "outputs": [],
   "source": []
  }
 ],
 "metadata": {
  "kernelspec": {
   "display_name": "Python 3",
   "language": "python",
   "name": "python3"
  },
  "language_info": {
   "codemirror_mode": {
    "name": "ipython",
    "version": 3
   },
   "file_extension": ".py",
   "mimetype": "text/x-python",
   "name": "python",
   "nbconvert_exporter": "python",
   "pygments_lexer": "ipython3",
   "version": "3.7.6"
  }
 },
 "nbformat": 4,
 "nbformat_minor": 4
}
