{
 "cells": [
  {
   "cell_type": "code",
   "execution_count": null,
   "metadata": {},
   "outputs": [],
   "source": [
    "import pandas as pd\n",
    "import numpy as np\n",
    "from pandas_datareader import data\n",
    "import matplotlib.pyplot as plt\n",
    "plt.style.use('ggplot')\n",
    "%matplotlib notebook"
   ]
  },
  {
   "cell_type": "code",
   "execution_count": null,
   "metadata": {},
   "outputs": [],
   "source": [
    "start='2014-1-1'\n",
    "end='2016-3-31'\n",
    "period = 41 #(odd days)"
   ]
  },
  {
   "cell_type": "code",
   "execution_count": null,
   "metadata": {},
   "outputs": [],
   "source": [
    "df = data.DataReader('AAPL', 'yahoo', start, end)\n",
    "\n",
    "df['h_index'] = False\n",
    "df['l_index'] = False\n",
    "    \n",
    "df['pph'] = df['High'].rolling(window=period, center=True).max()\n",
    "df['ppl'] = df['Low'].rolling(window=period, center=True).min()\n",
    "\n",
    "for i in range(len(df.index)):\n",
    "    if df['High'][i] == df['pph'][i]:\n",
    "        df['h_index'][i] = True\n",
    "    elif df['ppl'][i] == df['Low'][i]:\n",
    "        df['l_index'][i] = True\n",
    "\n",
    "df.drop(columns=['pph', 'ppl'])"
   ]
  },
  {
   "cell_type": "code",
   "execution_count": null,
   "metadata": {},
   "outputs": [],
   "source": [
    "%matplotlib notebook\n",
    "fig, ax = plt.subplots(figsize=(12.2,5.5))\n",
    "plt.xticks(rotation=45)\n",
    "plt.plot(df.index, df['Close'])\n",
    "for i in range(len(df.index)):\n",
    "    if df['h_index'][i]:\n",
    "        plt.plot(df.index[i], df['High'][i], marker=7, color='red')\n",
    "    elif df['l_index'][i]:\n",
    "        plt.plot(df.index[i], df['Low'][i], marker=6, color='green')\n",
    "plt.show()"
   ]
  },
  {
   "cell_type": "code",
   "execution_count": null,
   "metadata": {},
   "outputs": [],
   "source": []
  }
 ],
 "metadata": {
  "kernelspec": {
   "display_name": "Python 3",
   "language": "python",
   "name": "python3"
  },
  "language_info": {
   "codemirror_mode": {
    "name": "ipython",
    "version": 3
   },
   "file_extension": ".py",
   "mimetype": "text/x-python",
   "name": "python",
   "nbconvert_exporter": "python",
   "pygments_lexer": "ipython3",
   "version": "3.7.6"
  }
 },
 "nbformat": 4,
 "nbformat_minor": 4
}
