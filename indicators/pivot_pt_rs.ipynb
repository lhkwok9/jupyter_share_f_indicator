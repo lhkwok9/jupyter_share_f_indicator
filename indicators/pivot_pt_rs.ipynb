{
 "cells": [
  {
   "cell_type": "code",
   "execution_count": null,
   "metadata": {},
   "outputs": [],
   "source": [
    "#https://school.stockcharts.com/doku.php?id=technical_indicators:pivot_points\n",
    "from mplfinance.original_flavor import candlestick_ohlc\n",
    "import datetime as dt\n",
    "import pandas as pd\n",
    "import numpy as np\n",
    "from pandas_datareader import data\n",
    "from matplotlib.dates import date2num\n",
    "import matplotlib.pyplot as plt\n",
    "plt.style.use('ggplot')\n",
    "%matplotlib notebook"
   ]
  },
  {
   "cell_type": "code",
   "execution_count": null,
   "metadata": {},
   "outputs": [],
   "source": [
    "start='2014-1-1'\n",
    "end='2016-3-31'\n",
    "period = 23 #(days)\n",
    "ohlc_resample = '5D'\n",
    "\n",
    "df = data.DataReader('AAPL', 'yahoo', start, end)\n",
    "df2 = df\n",
    "\n",
    "for i in range(period):\n",
    "    df = df.append(pd.Series(), ignore_index=True)\n",
    "    \n",
    "\n",
    "df['pivot_point'] = ( df['High'].shift(period).rolling(window=period).max() + df['Low'].shift(period).rolling(window=period).min() + df['Close'].shift(period) ) /3\n",
    "df['s1'] = df['pivot_point'] * 2 - df['High'].shift(period).rolling(window=period).max()\n",
    "df['s2'] = df['pivot_point'] - ( df['High'].shift(period).rolling(window=period).max() - df['Low'].shift(period).rolling(window=period).min() )\n",
    "df['s3'] = df['Low'].shift(period).rolling(window=period).min() - 2 * (df['High'].shift(period).rolling(window=period).max() - df['pivot_point'])\n",
    "df['r1'] = df['pivot_point'] * 2 - df['Low'].shift(period).rolling(window=period).min()\n",
    "df['r2'] = df['pivot_point'] + ( df['High'].shift(period).rolling(window=period).max() - df['Low'].shift(period).rolling(window=period).min() )\n",
    "df['r3'] = df['High'].shift(period).rolling(window=period).max() + 2 * (df['pivot_point'] - df['Low'].shift(period).rolling(window=period).min())\n",
    "\n",
    "\n",
    "for i in range(len(df['Close'])):\n",
    "    n = i+1\n",
    "    if n%period != 0:\n",
    "        df['pivot_point'][i] = np.nan\n",
    "        df['s1'][i] = np.nan\n",
    "        df['s2'][i] = np.nan\n",
    "        df['s3'][i] = np.nan\n",
    "        df['r1'][i] = np.nan\n",
    "        df['r2'][i] = np.nan\n",
    "        df['r3'][i] = np.nan\n",
    "        \n",
    "df['pivot_point'] = df['pivot_point'].shift(1 - period)\n",
    "df['s1'] = df['s1'].shift(1 - period)\n",
    "df['s2'] = df['s2'].shift(1 - period)\n",
    "df['s3'] = df['s3'].shift(1 - period)\n",
    "df['r1'] = df['r1'].shift(1 - period)\n",
    "df['r2'] = df['r2'].shift(1 - period)\n",
    "df['r3'] = df['r3'].shift(1 - period)\n",
    "\n",
    "df = df[:-period]\n",
    "df = df.set_index(df2.index)"
   ]
  },
  {
   "cell_type": "code",
   "execution_count": null,
   "metadata": {},
   "outputs": [],
   "source": [
    "new_df = pd.DataFrame(df)\n",
    "new_df.dropna(inplace=True)\n",
    "new_df = new_df.append(df2.iloc[len(df.index) - 1])"
   ]
  },
  {
   "cell_type": "code",
   "execution_count": null,
   "metadata": {},
   "outputs": [],
   "source": [
    "df_ohlc = df2.resample(ohlc_resample).ohlc()\n",
    "df_ohlc.reset_index(inplace=True)\n",
    "df_ohlc['Date'] = df_ohlc['Date'].map(date2num)"
   ]
  },
  {
   "cell_type": "code",
   "execution_count": null,
   "metadata": {},
   "outputs": [],
   "source": [
    "%matplotlib notebook\n",
    "fig, ax = plt.subplots(figsize=(12.2,5.5))\n",
    "plt.xticks(rotation=45)\n",
    "candlestick_ohlc(ax, df_ohlc.values, width=1, colorup='g')\n",
    "for i in range( len(new_df.index) - 1 ):\n",
    "    plt.plot_date([new_df.index[i], new_df.index[i+1]], \n",
    "                 [new_df['pivot_point'][i], new_df['pivot_point'][i]], linestyle=\"-\", lw=1, marker=\",\", color='blue', alpha = 0.5)\n",
    "    plt.plot_date([new_df.index[i], new_df.index[i+1]], \n",
    "                 [new_df['s1'][i], new_df['s1'][i]], linestyle=\"--\", lw=1, marker=\",\", color='red', alpha = 0.5)\n",
    "    plt.plot_date([new_df.index[i], new_df.index[i+1]], \n",
    "                  [new_df['s2'][i], new_df['s2'][i]], linestyle=\"-.\", lw=1, marker=\",\", color='orange', alpha = 0.5)\n",
    "    plt.plot_date([new_df.index[i], new_df.index[i+1]], \n",
    "                 [new_df['r1'][i], new_df['r1'][i]], linestyle=\"--\", lw=1, marker=\",\", color='red', alpha = 0.5)\n",
    "    plt.plot_date([new_df.index[i], new_df.index[i+1]], \n",
    "                 [new_df['r2'][i], new_df['r2'][i]], linestyle=\"-.\", lw=1, marker=\",\", color='orange', alpha = 0.5)\n",
    "    plt.plot_date([new_df.index[i], new_df.index[i+1]], \n",
    "                 [new_df['s3'][i], new_df['s3'][i]], linestyle=\":\", lw=1, marker=\",\", color='yellow', alpha = 0.8)\n",
    "    plt.plot_date([new_df.index[i], new_df.index[i+1]], \n",
    "                 [new_df['r3'][i], new_df['r3'][i]], linestyle=\":\", lw=1, marker=\",\", color='yellow', alpha = 0.8)\n",
    "\n",
    "    \n",
    "plt.show()"
   ]
  },
  {
   "cell_type": "code",
   "execution_count": null,
   "metadata": {},
   "outputs": [],
   "source": []
  }
 ],
 "metadata": {
  "kernelspec": {
   "display_name": "Python 3",
   "language": "python",
   "name": "python3"
  },
  "language_info": {
   "codemirror_mode": {
    "name": "ipython",
    "version": 3
   },
   "file_extension": ".py",
   "mimetype": "text/x-python",
   "name": "python",
   "nbconvert_exporter": "python",
   "pygments_lexer": "ipython3",
   "version": "3.7.6"
  }
 },
 "nbformat": 4,
 "nbformat_minor": 4
}
