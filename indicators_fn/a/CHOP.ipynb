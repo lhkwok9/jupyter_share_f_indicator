{
 "cells": [
  {
   "cell_type": "code",
   "execution_count": 8,
   "metadata": {},
   "outputs": [],
   "source": [
    "def chop(df1, CHOP_period):\n",
    "    df = df1[['High', 'Low', 'Open', 'Close', 'Volume']].copy()\n",
    "    df['TR'] = np.nan\n",
    "\n",
    "    for i in range(len(df['Close'])):\n",
    "        df.loc[df.index[i], 'TR'] = np.max([ df['High'][i] - df['Low'][i], abs(df['High'][i] - df['Close'][i-1]), abs(df['Low'][i] - df['Close'][i-1]) ])\n",
    "    df[df.index[0], 'TR'] = np.nan\n",
    "    df['ATR'] = df['TR'].rolling(window=CHOP_period).mean()\n",
    "    df['CHOP_' + str(CHOP_period)] = 100 * ( np.log10( df['ATR'].rolling(window=CHOP_period).sum() / ( df['High'].rolling(window=CHOP_period).max() - df['Low'].rolling(window=CHOP_period).min() ) ) )/ np.log10(CHOP_period)\n",
    "    \n",
    "    return(df['CHOP_' + str(CHOP_period)])"
   ]
  }
 ],
 "metadata": {
  "kernelspec": {
   "display_name": "Python 3",
   "language": "python",
   "name": "python3"
  },
  "language_info": {
   "codemirror_mode": {
    "name": "ipython",
    "version": 3
   },
   "file_extension": ".py",
   "mimetype": "text/x-python",
   "name": "python",
   "nbconvert_exporter": "python",
   "pygments_lexer": "ipython3",
   "version": "3.7.6"
  }
 },
 "nbformat": 4,
 "nbformat_minor": 4
}
