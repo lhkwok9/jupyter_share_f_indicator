{
 "cells": [
  {
   "cell_type": "code",
   "execution_count": 2,
   "metadata": {},
   "outputs": [],
   "source": [
    "def get_EMA(cps, days, fitting):\n",
    "    emas = cps.copy()\n",
    "    for i in range(len(cps)):\n",
    "        if i == 0:\n",
    "            emas[i] = cps[i]\n",
    "        if i > 0:\n",
    "            emas[i] = ((days + 1 - fitting) * emas[i - 1] + fitting * cps[i]) / (days + 1)\n",
    "    return emas"
   ]
  },
  {
   "cell_type": "code",
   "execution_count": 1,
   "metadata": {},
   "outputs": [],
   "source": [
    "def macd(df1, ema_period, fitting, macd_period, signal_period):  #(12,26,9),(5,35,5),(20,60,2),(30,57,27),(14,48,3),(2,8,2),(18,60,59),(46,52,5)\n",
    "    df = df1[['High', 'Low', 'Open', 'Close', 'Volume']].copy()\n",
    "    df[str(ema_period) + 'ema'] = get_EMA(df['Close'], ema_period, fitting)\n",
    "    df[str(macd_period) + 'ema'] = get_EMA(df['Close'], macd_period, fitting)\n",
    "\n",
    "    df['MACD'] = get_EMA(df['Close'], ema_period, fitting) - get_EMA(df['Close'], macd_period, fitting)\n",
    "    df['signal'] = get_EMA(df['MACD'], signal_period, fitting)\n",
    "    df['diff'] = df['MACD'] - df['signal']\n",
    "    df['MACD_up'] = np.nan\n",
    "    df['MACD_down'] = np.nan\n",
    "    for i in range(len(df['diff'])):\n",
    "        if df['diff'][i] > 0:\n",
    "            df.loc[df1.index[i], 'MACD_up'] = df['diff'][i]\n",
    "        elif df['diff'][i] < 0:\n",
    "            df.loc[df1.index[i], 'MACD_down'] = df['diff'][i]\n",
    "\n",
    "    return(df[[str(ema_period) + 'ema', str(macd_period) + 'ema', 'MACD', 'signal', 'MACD_up', 'MACD_down']])"
   ]
  }
 ],
 "metadata": {
  "kernelspec": {
   "display_name": "Python 3",
   "language": "python",
   "name": "python3"
  },
  "language_info": {
   "codemirror_mode": {
    "name": "ipython",
    "version": 3
   },
   "file_extension": ".py",
   "mimetype": "text/x-python",
   "name": "python",
   "nbconvert_exporter": "python",
   "pygments_lexer": "ipython3",
   "version": "3.7.6"
  }
 },
 "nbformat": 4,
 "nbformat_minor": 4
}
