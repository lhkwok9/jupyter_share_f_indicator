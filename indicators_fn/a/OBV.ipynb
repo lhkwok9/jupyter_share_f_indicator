{
 "cells": [
  {
   "cell_type": "code",
   "execution_count": 16,
   "metadata": {},
   "outputs": [],
   "source": [
    "def obv(df1):\n",
    "    df = df1[['High', 'Low', 'Open', 'Close', 'Volume']].copy()\n",
    "    \n",
    "    df['OBV'] = np.nan\n",
    "    df['OBV'][0] = 0\n",
    "    \n",
    "    for i in range(1, len(df['Close'])):\n",
    "        if df['Close'][i] > df['Close'][i-1]:\n",
    "            df.loc[df.index[i], 'OBV'] = df['OBV'][i-1] + df['Volume'][i]\n",
    "        elif df['Close'][i] < df['Close'][i-1]:\n",
    "            df.loc[df.index[i], 'OBV'] = df['OBV'][i-1] - df['Volume'][i]\n",
    "        else:\n",
    "            df.loc[df.index[i], 'OBV'] = df['OBV'][i-1]\n",
    "            \n",
    "    return(df['OBV'])"
   ]
  }
 ],
 "metadata": {
  "kernelspec": {
   "display_name": "Python 3",
   "language": "python",
   "name": "python3"
  },
  "language_info": {
   "codemirror_mode": {
    "name": "ipython",
    "version": 3
   },
   "file_extension": ".py",
   "mimetype": "text/x-python",
   "name": "python",
   "nbconvert_exporter": "python",
   "pygments_lexer": "ipython3",
   "version": "3.7.6"
  }
 },
 "nbformat": 4,
 "nbformat_minor": 4
}
