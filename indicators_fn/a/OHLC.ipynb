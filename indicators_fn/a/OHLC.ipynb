{
 "cells": [
  {
   "cell_type": "code",
   "execution_count": 20,
   "metadata": {},
   "outputs": [],
   "source": [
    "def ohlc(df1, OHLC_day):\n",
    "    df = df1[['High', 'Low', 'Open', 'Close', 'Volume']].copy()\n",
    "    \n",
    "    a = str(OHLC_day) + 'D'\n",
    "    df = df['Close'].resample(a).ohlc()     # resample-> shrink size\n",
    "\n",
    "    df.reset_index(inplace=True)\n",
    "    df['Date'] = df['Date'].map(date2num)\n",
    "    \n",
    "    return(df)"
   ]
  }
 ],
 "metadata": {
  "kernelspec": {
   "display_name": "Python 3",
   "language": "python",
   "name": "python3"
  },
  "language_info": {
   "codemirror_mode": {
    "name": "ipython",
    "version": 3
   },
   "file_extension": ".py",
   "mimetype": "text/x-python",
   "name": "python",
   "nbconvert_exporter": "python",
   "pygments_lexer": "ipython3",
   "version": "3.7.6"
  }
 },
 "nbformat": 4,
 "nbformat_minor": 4
}
