{
 "cells": [
  {
   "cell_type": "code",
   "execution_count": null,
   "metadata": {
    "code_folding": []
   },
   "outputs": [],
   "source": [
    "def pivot_rs(df1, period):\n",
    "    df = df1[['High', 'Low', 'Open', 'Close', 'Volume']].copy()\n",
    "    \n",
    "    for i in range(period):\n",
    "        df = df.append(pd.Series(), ignore_index=True)\n",
    "    \n",
    "    df['pivot_point'] = ( df['High'].shift(period).rolling(window=period).max() + df['Low'].shift(period).rolling(window=period).min() + df['Close'].shift(period) ) /3\n",
    "    df['s1'] = df['pivot_point'] * 2 - df['High'].shift(period).rolling(window=period).max()\n",
    "    df['s2'] = df['pivot_point'] - ( df['High'].shift(period).rolling(window=period).max() - df['Low'].shift(period).rolling(window=period).min() )\n",
    "    df['s3'] = df['Low'].shift(period).rolling(window=period).min() - 2 * (df['High'].shift(period).rolling(window=period).max() - df['pivot_point'])\n",
    "    df['r1'] = df['pivot_point'] * 2 - df['Low'].shift(period).rolling(window=period).min()\n",
    "    df['r2'] = df['pivot_point'] + ( df['High'].shift(period).rolling(window=period).max() - df['Low'].shift(period).rolling(window=period).min() )\n",
    "    df['r3'] = df['High'].shift(period).rolling(window=period).max() + 2 * (df['pivot_point'] - df['Low'].shift(period).rolling(window=period).min())\n",
    "\n",
    "\n",
    "    for i in range(len(df)):\n",
    "        n = i+1\n",
    "        if n%period != 0:\n",
    "            df.loc[df.index[i], 'pivot_point'] = np.nan\n",
    "            df.loc[df.index[i], 's1'] = np.nan\n",
    "            df.loc[df.index[i], 's2'] = np.nan\n",
    "            df.loc[df.index[i], 's3'] = np.nan\n",
    "            df.loc[df.index[i], 'r1'] = np.nan\n",
    "            df.loc[df.index[i], 'r2'] = np.nan\n",
    "            df.loc[df.index[i], 'r3'] = np.nan\n",
    "\n",
    "    df = df.shift(1 - period)\n",
    "\n",
    "    df = df[:-period]\n",
    "    df = df.set_index(df1.index)\n",
    "    df.dropna(inplace=True)\n",
    "    df = df.append(df1.iloc[len(df1) - 1])\n",
    "    \n",
    "    return(df)"
   ]
  }
 ],
 "metadata": {
  "kernelspec": {
   "display_name": "Python 3",
   "language": "python",
   "name": "python3"
  },
  "language_info": {
   "codemirror_mode": {
    "name": "ipython",
    "version": 3
   },
   "file_extension": ".py",
   "mimetype": "text/x-python",
   "name": "python",
   "nbconvert_exporter": "python",
   "pygments_lexer": "ipython3",
   "version": "3.7.6"
  }
 },
 "nbformat": 4,
 "nbformat_minor": 4
}
