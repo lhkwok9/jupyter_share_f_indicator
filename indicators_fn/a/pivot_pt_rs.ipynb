{
 "cells": [
  {
   "cell_type": "code",
   "execution_count": null,
   "metadata": {
    "code_folding": []
   },
   "outputs": [],
   "source": [
    "def pivot_rs(df1, period):\n",
    "    df = df1[['High', 'Low', 'Open', 'Close', 'Volume']].copy()\n",
    "    \n",
    "    for i in range(period):\n",
    "        df = df.append(pd.Series(), ignore_index=True)\n",
    "    \n",
    "    df['pivot_point'] = ( df['High'].shift(period).rolling(window=period).max() + df['Low'].shift(period).rolling(window=period).min() + df['Close'].shift(period) ) /3\n",
    "    df['s1'] = df['pivot_point'] * 2 - df['High'].shift(period).rolling(window=period).max()\n",
    "    df['s2'] = df['pivot_point'] - ( df['High'].shift(period).rolling(window=period).max() - df['Low'].shift(period).rolling(window=period).min() )\n",
    "    df['s3'] = df['Low'].shift(period).rolling(window=period).min() - 2 * (df['High'].shift(period).rolling(window=period).max() - df['pivot_point'])\n",
    "    df['r1'] = df['pivot_point'] * 2 - df['Low'].shift(period).rolling(window=period).min()\n",
    "    df['r2'] = df['pivot_point'] + ( df['High'].shift(period).rolling(window=period).max() - df['Low'].shift(period).rolling(window=period).min() )\n",
    "    df['r3'] = df['High'].shift(period).rolling(window=period).max() + 2 * (df['pivot_point'] - df['Low'].shift(period).rolling(window=period).min())\n",
    "\n",
    "\n",
    "    for i in range(len(df['Close'])):\n",
    "        n = i+1\n",
    "        if n%period != 0:\n",
    "            df.loc[df1.index[i], 'pivot_point'] = np.nan\n",
    "            df.loc[df1.index[i], 's1'] = np.nan\n",
    "            df.loc[df1.index[i], 's2'] = np.nan\n",
    "            df.loc[df1.index[i], 's3'] = np.nan\n",
    "            df.loc[df1.index[i], 'r1'] = np.nan\n",
    "            df.loc[df1.index[i], 'r2'] = np.nan\n",
    "            df.loc[df1.index[i], 'r3'] = np.nan\n",
    "\n",
    "    df['pivot_point'] = df['pivot_point'].shift(1 - period)\n",
    "    df['s1'] = df['s1'].shift(1 - period)\n",
    "    df['s2'] = df['s2'].shift(1 - period)\n",
    "    df['s3'] = df['s3'].shift(1 - period)\n",
    "    df['r1'] = df['r1'].shift(1 - period)\n",
    "    df['r2'] = df['r2'].shift(1 - period)\n",
    "    df['r3'] = df['r3'].shift(1 - period)\n",
    "\n",
    "    df = df[:-period]\n",
    "    df = df.set_index(df1.index)\n",
    "    df.dropna(inplace=True)\n",
    "    df = df.append(df1.iloc[len(df1) - 1])\n",
    "    \n",
    "    return(df)"
   ]
  }
 ],
 "metadata": {
  "kernelspec": {
   "display_name": "Python 3",
   "language": "python",
   "name": "python3"
  },
  "language_info": {
   "codemirror_mode": {
    "name": "ipython",
    "version": 3
   },
   "file_extension": ".py",
   "mimetype": "text/x-python",
   "name": "python",
   "nbconvert_exporter": "python",
   "pygments_lexer": "ipython3",
   "version": "3.7.6"
  }
 },
 "nbformat": 4,
 "nbformat_minor": 4
}
